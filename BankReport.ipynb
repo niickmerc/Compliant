{
 "cells": [
  {
   "cell_type": "code",
   "execution_count": 7,
   "metadata": {},
   "outputs": [],
   "source": [
    "import pandas as pd\n",
    "import datetime\n",
    "\n",
    "def GenerateReport(ExcelFile):\n",
    "    \n",
    "    year, month, day = input(\"Enter the date for the Bank Report (Format: Year Month Day): \").split()\n",
    "    BankReportDate = datetime.datetime(int(year), int(month), int(day))\n",
    "    Allowable_Cities = [\"Abbotsford\", \"Airdrie\", \"Armstrong\", \"Beaumont\", \n",
    "                    \"Big Lake Ranch\", \"Big White\", \"Blind Bay\", \"Brooks\", \n",
    "                    \"Burnaby\", \"Calgary\",\"Campbell River\", \"Chestermere\", \n",
    "                    \"Chilliwack\", \"Coldstream\",\"Coquitlam\", \"Cranbrook\", \n",
    "                    \"Dawson Creek\", \"Delta\", \"Drumheller\", \"Edmonton\", \"EDMONTON\",\n",
    "                    \"Enderby\", \"Errington\", \"Fort McMurray\", \"Fort St. John\", \n",
    "                    \"Fort Saskatchewan\", \"Grande Prairie\", \"High Prairie\", \n",
    "                    \"Jaffray\", \"Kaleden\", \"Kamloops\", \"Kelowna\", \"Keremeos\",\n",
    "                    \"Kimberley\", \"Lake Country\", \"Lake Country\", \"Langley\",\n",
    "                    \"Leduc\", \"Lee Creek\", \"Lethbridge\", \"Maple Ridge\", \n",
    "                    \"MD of Foothills\", \"Medicine Hat\", \"Mirror\", \"Mountainview County\",\n",
    "                    \"Mundare\", \"Nanaimo\", \"New Westminster\", \"Nobleford\", \"North Vancouver\",\n",
    "                    \"Parkland County\", \"Penticton\", \"Pitt Meadows\", \"Port Alberni\",\n",
    "                    \"Port Coquitlam\", \"Port Moody\", \"Pouce Coupe\", \"Prince George\",\n",
    "                    \"Quesnel\", \"Red Deer\", \"Red Deer County\", \"Redcliff\", \"Richmond\", \"Rolla\", \"Ross Haven\",\n",
    "                    \"Ross Haven, Lac Ste. Anne County\",\"Rural Rocky View County\", \"Rocky View County\",\n",
    "                    \"Sherwood Park\", \"Sicamous\", \"Springbank\",\"Springbrook\", \"Spruce Grove\", \"St. Albert\", \"Strathcona County\",\n",
    "                    \"Summerland\", \"Surrey\", \"Sylvan Lake\", \"Terrace\", \"Vancouver\",\n",
    "                    \"Vernon\", \"Victoria\", \"West Kelowna\", \"West Vancouver\", \"White Rock\",\n",
    "                    \"Woodlands County\", \"Wynndel\", \"Yellowhead County\", \"Ymir\"]\n",
    "    \n",
    "    df = pd.read_excel(ExcelFile)\n",
    "    df = df.loc[:, 'ID': 'ARREARS']\n",
    "    df = df[df['ID'].notna()]\n",
    "    df = df[df['MOR ID'].notna()]\n",
    "    df = df.sort_values(by = 'NAME', ascending=True).reset_index().drop(columns = ['index'])\n",
    "    BankReport = df.sort_values(by = 'CODE', ascending=True).reset_index().drop(columns = ['index']).rename(columns={'CODE.1' : 'CODE1'})\n",
    "    \n",
    "    BankReport_Firsts = BankReport[BankReport.CODE != \"COM\"] \n",
    "    BankReport_Firsts = BankReport_Firsts[BankReport_Firsts.CODE1 != \"Second\"]\n",
    "    BankReport_Firsts = BankReport_Firsts[(BankReport_Firsts['MATURITY'] > BankReportDate)]\n",
    "    BankReport_Firsts = BankReport_Firsts[(BankReport_Firsts.LTV <= 75.5)]\n",
    "    BankReport_Firsts = BankReport_Firsts[(BankReport_Firsts.ARREARS < 3)]\n",
    "    BankReport_Firsts['ALLOWABLE'] = BankReport_Firsts['CITY'].isin(Allowable_Cities)\n",
    "    BankReport_Firsts = BankReport_Firsts.loc[BankReport_Firsts['ALLOWABLE'] == True].reset_index().drop(columns = ['index'])\n",
    "    BankReport_Firsts = BankReport_Firsts.sort_values(by = 'AMORT', ascending=True).reset_index().drop(columns = ['index'])\n",
    "    BankReport_Firsts = BankReport_Firsts.loc[:, 'ID': 'ARREARS']\n",
    "\n",
    "    BankReport_Seconds = BankReport[BankReport.CODE != \"COM\"] \n",
    "    BankReport_Seconds = BankReport_Seconds[BankReport_Seconds.CODE != \"F\"]\n",
    "    BankReport_Seconds = BankReport_Seconds[BankReport_Seconds.CODE1 != \"First\"]\n",
    "    BankReport_Seconds = BankReport_Seconds[(BankReport_Seconds['MATURITY'] > BankReportDate)]\n",
    "    BankReport_Seconds = BankReport_Seconds[(BankReport_Seconds.LTV <= 75.5)]\n",
    "    BankReport_Seconds = BankReport_Seconds[(BankReport_Seconds.ARREARS < 3)]\n",
    "    BankReport_Seconds['ALLOWABLE'] = BankReport_Seconds['CITY'].isin(Allowable_Cities)\n",
    "    BankReport_Seconds = BankReport_Seconds.loc[BankReport_Seconds['ALLOWABLE'] == True].reset_index().drop(columns = ['index'])\n",
    "    BankReport_Seconds = BankReport_Seconds.sort_values(by = 'AMORT', ascending=True).reset_index().drop(columns = ['index'])\n",
    "    BankReport_Seconds = BankReport_Seconds.loc[:, 'ID': 'ARREARS']\n",
    "    \n",
    "    BankReport_Commercial = BankReport[BankReport.CODE == \"COM\"] \n",
    "    BankReport_Commercial = BankReport_Commercial[(BankReport_Commercial['MATURITY'] > BankReportDate)]\n",
    "    BankReport_Commercial = BankReport_Commercial[(BankReport_Commercial.LTV <= 75.5)]\n",
    "    BankReport_Commercial = BankReport_Commercial[(BankReport_Commercial.ARREARS < 3)]\n",
    "    BankReport_Commercial['ALLOWABLE'] = BankReport_Commercial['CITY'].isin(Allowable_Cities)\n",
    "    BankReport_Commercial = BankReport_Commercial.loc[BankReport_Commercial['ALLOWABLE'] == True].reset_index().drop(columns = ['index'])\n",
    "    BankReport_Commercial = BankReport_Commercial.sort_values(by = 'AMORT', ascending=True).reset_index().drop(columns = ['index'])\n",
    "    BankReport_Commercial = BankReport_Commercial.loc[:, 'ID': 'ARREARS']\n",
    "    \n",
    "    if month == '01':\n",
    "        x = \"JAN\"\n",
    "    if month == '02':\n",
    "        x = \"FEB\"\n",
    "    if month == '03':\n",
    "        x = \"MAR\"\n",
    "    if month == '04':\n",
    "        x = \"APR\"\n",
    "    if month == '05':\n",
    "        x = \"MAY\"\n",
    "    if month == '06':\n",
    "        x = \"JUN\"\n",
    "    if month == '07':\n",
    "        x = \"JUL\"\n",
    "    if month == '08':\n",
    "        x = \"AUG\"\n",
    "    if month == '09':\n",
    "        x = \"SEPT\"\n",
    "    if month == '10':\n",
    "        x = \"OCT\"\n",
    "    if month== '11':\n",
    "        x = \"NOV\"\n",
    "    if month == '12':\n",
    "        x = \"DEC\"\n",
    "        \n",
    "    with pd.ExcelWriter('Bank Report.xlsx') as writer:\n",
    "        BankReport_Firsts.to_excel(writer, sheet_name='FIRSTS ' + x + \" \" + year)\n",
    "        BankReport_Seconds.to_excel(writer, sheet_name='SECONDS ' + x + \" \" + year)\n",
    "        BankReport_Commercial.to_excel(writer, sheet_name='COMMERCIAL ' + x + \" \" + year)\n",
    "        "
   ]
  },
  {
   "cell_type": "code",
   "execution_count": 8,
   "metadata": {},
   "outputs": [
    {
     "name": "stdin",
     "output_type": "stream",
     "text": [
      "Enter the date for the Bank Report (Format: Year Month Day):  2021 08 31\n"
     ]
    }
   ],
   "source": [
    "GenerateReport('MASTER.xls')"
   ]
  },
  {
   "cell_type": "code",
   "execution_count": null,
   "metadata": {},
   "outputs": [],
   "source": []
  },
  {
   "cell_type": "code",
   "execution_count": null,
   "metadata": {},
   "outputs": [],
   "source": []
  }
 ],
 "metadata": {
  "kernelspec": {
   "display_name": "Python 3",
   "language": "python",
   "name": "python3"
  },
  "language_info": {
   "codemirror_mode": {
    "name": "ipython",
    "version": 3
   },
   "file_extension": ".py",
   "mimetype": "text/x-python",
   "name": "python",
   "nbconvert_exporter": "python",
   "pygments_lexer": "ipython3",
   "version": "3.8.3"
  }
 },
 "nbformat": 4,
 "nbformat_minor": 4
}
